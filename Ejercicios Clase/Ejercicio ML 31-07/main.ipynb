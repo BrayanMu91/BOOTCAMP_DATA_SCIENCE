{
 "cells": [
  {
   "cell_type": "code",
   "execution_count": 13,
   "id": "bd0fbf38",
   "metadata": {},
   "outputs": [],
   "source": [
    "# Librerías para manipulación de datos\n",
    "import pandas as pd\n",
    "import numpy as np\n",
    "\n",
    "# Librerías para visualización\n",
    "import matplotlib.pyplot as plt\n",
    "import seaborn as sns\n",
    "\n",
    "# Librerías para machine learning\n",
    "from sklearn.model_selection import train_test_split\n",
    "from sklearn.preprocessing import StandardScaler\n",
    "from sklearn.linear_model import LogisticRegression\n",
    "from sklearn.ensemble import RandomForestClassifier\n",
    "from sklearn.neighbors import KNeighborsClassifier\n",
    "\n",
    "# Métricas de evaluación\n",
    "from sklearn.metrics import accuracy_score, precision_score, recall_score, f1_score\n",
    "from sklearn.metrics import confusion_matrix, classification_report\n",
    "\n",
    "#Para lectura de dataset en kaggle\n",
    "import kagglehub\n",
    "from kagglehub import KaggleDatasetAdapter\n",
    "\n",
    "# Ignorar warnings para una mejor visualización\n",
    "import warnings\n",
    "warnings.filterwarnings('ignore')"
   ]
  },
  {
   "cell_type": "code",
   "execution_count": 14,
   "id": "87df2e84",
   "metadata": {},
   "outputs": [
    {
     "name": "stdout",
     "output_type": "stream",
     "text": [
      "Warning: Looks like you're using an outdated `kagglehub` version (installed: 0.3.12), please consider upgrading to the latest version (0.3.13).\n"
     ]
    },
    {
     "data": {
      "text/html": [
       "<div>\n",
       "<style scoped>\n",
       "    .dataframe tbody tr th:only-of-type {\n",
       "        vertical-align: middle;\n",
       "    }\n",
       "\n",
       "    .dataframe tbody tr th {\n",
       "        vertical-align: top;\n",
       "    }\n",
       "\n",
       "    .dataframe thead th {\n",
       "        text-align: right;\n",
       "    }\n",
       "</style>\n",
       "<table border=\"1\" class=\"dataframe\">\n",
       "  <thead>\n",
       "    <tr style=\"text-align: right;\">\n",
       "      <th></th>\n",
       "      <th>Pregnancies</th>\n",
       "      <th>Glucose</th>\n",
       "      <th>BloodPressure</th>\n",
       "      <th>SkinThickness</th>\n",
       "      <th>Insulin</th>\n",
       "      <th>BMI</th>\n",
       "      <th>DiabetesPedigreeFunction</th>\n",
       "      <th>Age</th>\n",
       "      <th>Outcome</th>\n",
       "    </tr>\n",
       "  </thead>\n",
       "  <tbody>\n",
       "    <tr>\n",
       "      <th>0</th>\n",
       "      <td>6</td>\n",
       "      <td>148</td>\n",
       "      <td>72</td>\n",
       "      <td>35</td>\n",
       "      <td>0</td>\n",
       "      <td>33.6</td>\n",
       "      <td>0.627</td>\n",
       "      <td>50</td>\n",
       "      <td>1</td>\n",
       "    </tr>\n",
       "    <tr>\n",
       "      <th>1</th>\n",
       "      <td>1</td>\n",
       "      <td>85</td>\n",
       "      <td>66</td>\n",
       "      <td>29</td>\n",
       "      <td>0</td>\n",
       "      <td>26.6</td>\n",
       "      <td>0.351</td>\n",
       "      <td>31</td>\n",
       "      <td>0</td>\n",
       "    </tr>\n",
       "    <tr>\n",
       "      <th>2</th>\n",
       "      <td>8</td>\n",
       "      <td>183</td>\n",
       "      <td>64</td>\n",
       "      <td>0</td>\n",
       "      <td>0</td>\n",
       "      <td>23.3</td>\n",
       "      <td>0.672</td>\n",
       "      <td>32</td>\n",
       "      <td>1</td>\n",
       "    </tr>\n",
       "    <tr>\n",
       "      <th>3</th>\n",
       "      <td>1</td>\n",
       "      <td>89</td>\n",
       "      <td>66</td>\n",
       "      <td>23</td>\n",
       "      <td>94</td>\n",
       "      <td>28.1</td>\n",
       "      <td>0.167</td>\n",
       "      <td>21</td>\n",
       "      <td>0</td>\n",
       "    </tr>\n",
       "    <tr>\n",
       "      <th>4</th>\n",
       "      <td>0</td>\n",
       "      <td>137</td>\n",
       "      <td>40</td>\n",
       "      <td>35</td>\n",
       "      <td>168</td>\n",
       "      <td>43.1</td>\n",
       "      <td>2.288</td>\n",
       "      <td>33</td>\n",
       "      <td>1</td>\n",
       "    </tr>\n",
       "  </tbody>\n",
       "</table>\n",
       "</div>"
      ],
      "text/plain": [
       "   Pregnancies  Glucose  BloodPressure  SkinThickness  Insulin   BMI  \\\n",
       "0            6      148             72             35        0  33.6   \n",
       "1            1       85             66             29        0  26.6   \n",
       "2            8      183             64              0        0  23.3   \n",
       "3            1       89             66             23       94  28.1   \n",
       "4            0      137             40             35      168  43.1   \n",
       "\n",
       "   DiabetesPedigreeFunction  Age  Outcome  \n",
       "0                     0.627   50        1  \n",
       "1                     0.351   31        0  \n",
       "2                     0.672   32        1  \n",
       "3                     0.167   21        0  \n",
       "4                     2.288   33        1  "
      ]
     },
     "execution_count": 14,
     "metadata": {},
     "output_type": "execute_result"
    }
   ],
   "source": [
    "# IMPORTAR EL DATASET DESDE KAGGLE\n",
    "file_path = \"diabetes.csv\"\n",
    "\n",
    "# Load the latest version\n",
    "df_completo = kagglehub.load_dataset(\n",
    "  KaggleDatasetAdapter.PANDAS,\n",
    "  \"mathchi/diabetes-data-set\",\n",
    "  file_path,\n",
    "  # Provide any additional arguments like \n",
    "  # sql_query or pandas_kwargs. See the \n",
    "  # documenation for more information:\n",
    "  # https://github.com/Kaggle/kagglehub/blob/main/README.md#kaggledatasetadapterpandas\n",
    ")\n",
    "\n",
    "df_completo.head()"
   ]
  },
  {
   "cell_type": "code",
   "execution_count": 15,
   "id": "f3b817ff",
   "metadata": {},
   "outputs": [
    {
     "name": "stdout",
     "output_type": "stream",
     "text": [
      "Primeras 5 filas del dataset:\n",
      "   Pregnancies  Glucose  BloodPressure  SkinThickness  Insulin   BMI  \\\n",
      "0            6      148             72             35        0  33.6   \n",
      "1            1       85             66             29        0  26.6   \n",
      "2            8      183             64              0        0  23.3   \n",
      "3            1       89             66             23       94  28.1   \n",
      "4            0      137             40             35      168  43.1   \n",
      "\n",
      "   DiabetesPedigreeFunction  Age  Outcome  \n",
      "0                     0.627   50        1  \n",
      "1                     0.351   31        0  \n",
      "2                     0.672   32        1  \n",
      "3                     0.167   21        0  \n",
      "4                     2.288   33        1  \n",
      "\n",
      "Información del dataset:\n",
      "<class 'pandas.core.frame.DataFrame'>\n",
      "RangeIndex: 768 entries, 0 to 767\n",
      "Data columns (total 9 columns):\n",
      " #   Column                    Non-Null Count  Dtype  \n",
      "---  ------                    --------------  -----  \n",
      " 0   Pregnancies               768 non-null    int64  \n",
      " 1   Glucose                   768 non-null    int64  \n",
      " 2   BloodPressure             768 non-null    int64  \n",
      " 3   SkinThickness             768 non-null    int64  \n",
      " 4   Insulin                   768 non-null    int64  \n",
      " 5   BMI                       768 non-null    float64\n",
      " 6   DiabetesPedigreeFunction  768 non-null    float64\n",
      " 7   Age                       768 non-null    int64  \n",
      " 8   Outcome                   768 non-null    int64  \n",
      "dtypes: float64(2), int64(7)\n",
      "memory usage: 54.1 KB\n",
      "None\n",
      "\n",
      "Estadísticas descriptivas:\n",
      "       Pregnancies     Glucose  BloodPressure  SkinThickness     Insulin  \\\n",
      "count   768.000000  768.000000     768.000000     768.000000  768.000000   \n",
      "mean      3.845052  120.894531      69.105469      20.536458   79.799479   \n",
      "std       3.369578   31.972618      19.355807      15.952218  115.244002   \n",
      "min       0.000000    0.000000       0.000000       0.000000    0.000000   \n",
      "25%       1.000000   99.000000      62.000000       0.000000    0.000000   \n",
      "50%       3.000000  117.000000      72.000000      23.000000   30.500000   \n",
      "75%       6.000000  140.250000      80.000000      32.000000  127.250000   \n",
      "max      17.000000  199.000000     122.000000      99.000000  846.000000   \n",
      "\n",
      "              BMI  DiabetesPedigreeFunction         Age     Outcome  \n",
      "count  768.000000                768.000000  768.000000  768.000000  \n",
      "mean    31.992578                  0.471876   33.240885    0.348958  \n",
      "std      7.884160                  0.331329   11.760232    0.476951  \n",
      "min      0.000000                  0.078000   21.000000    0.000000  \n",
      "25%     27.300000                  0.243750   24.000000    0.000000  \n",
      "50%     32.000000                  0.372500   29.000000    0.000000  \n",
      "75%     36.600000                  0.626250   41.000000    1.000000  \n",
      "max     67.100000                  2.420000   81.000000    1.000000  \n",
      "\n",
      "Valores nulos:\n",
      "Pregnancies                 0\n",
      "Glucose                     0\n",
      "BloodPressure               0\n",
      "SkinThickness               0\n",
      "Insulin                     0\n",
      "BMI                         0\n",
      "DiabetesPedigreeFunction    0\n",
      "Age                         0\n",
      "Outcome                     0\n",
      "dtype: int64\n",
      "\n",
      "Filas duplicadas: 0\n",
      "\n",
      "Cuántas personas tienen diabetes:\n",
      "Outcome\n",
      "0    500\n",
      "1    268\n",
      "Name: count, dtype: int64\n"
     ]
    },
    {
     "data": {
      "image/png": "[encoded data removed]",
      "text/plain": [
       "<Figure size 600x400 with 1 Axes>"
      ]
     },
     "metadata": {},
     "output_type": "display_data"
    }
   ],
   "source": [
    "#ANALISIS EXPLORATORIO DE LOS DATOS\n",
    "\n",
    "# Ver las primeras 5 filas\n",
    "print(\"Primeras 5 filas del dataset:\")\n",
    "print(df_completo.head())\n",
    "\n",
    "# Ver información básica\n",
    "print(\"\\nInformación del dataset:\")\n",
    "print(df_completo.info())\n",
    "\n",
    "# Estadísticas básicas\n",
    "print(\"\\nEstadísticas descriptivas:\")\n",
    "print(df_completo.describe())\n",
    "\n",
    "# Contar valores nulos\n",
    "print(\"\\nValores nulos:\")\n",
    "print(df_completo.isnull().sum())\n",
    "\n",
    "# Ver si hay duplicados\n",
    "print(f\"\\nFilas duplicadas: {df_completo.duplicated().sum()}\")\n",
    "\n",
    "# Ver distribución de diabetes (Outcome)\n",
    "print(\"\\nCuántas personas tienen diabetes:\")\n",
    "print(df_completo['Outcome'].value_counts())\n",
    "\n",
    "# Graficar la distribución de Outcome\n",
    "plt.figure(figsize=(6, 4))\n",
    "df_completo['Outcome'].value_counts().plot(kind='bar')\n",
    "plt.title('Pacientes con y sin Diabetes')\n",
    "plt.xlabel('0 = Sin Diabetes, 1 = Con Diabetes')\n",
    "plt.ylabel('Cantidad')\n",
    "plt.show()"
   ]
  },
  {
   "cell_type": "code",
   "execution_count": null,
   "id": "3fc075b7",
   "metadata": {},
   "outputs": [
    {
     "name": "stdout",
     "output_type": "stream",
     "text": [
      "Glucose: 5 valores en cero\n",
      "BloodPressure: 35 valores en cero\n",
      "SkinThickness: 227 valores en cero\n",
      "Insulin: 374 valores en cero\n",
      "BMI: 11 valores en cero\n"
     ]
    }
   ],
   "source": [
    "##IDENTIFICAR VALORES ATÍPICOS o CEROS QUE NO TIENEN SENTIDO DEBIDO A ESTUDIO DE DIABETES\n",
    "\n",
    "# Estas columnas no pueden tener valor 0 en la vida real ya son requisito para identificacion de diabetes\n",
    "columnas_revisar = ['Glucose', 'BloodPressure', 'SkinThickness', 'Insulin', 'BMI']\n",
    "\n",
    "# Contar cuántos ceros hay\n",
    "for columna in columnas_revisar:\n",
    "    ceros = (df_completo[columna] == 0).sum()\n",
    "    print(f\"{columna}: {ceros} valores en cero\")"
   ]
  },
  {
   "cell_type": "code",
   "execution_count": 18,
   "id": "78bcd638",
   "metadata": {},
   "outputs": [
    {
     "name": "stdout",
     "output_type": "stream",
     "text": [
      "\n",
      "Reemplazando ceros con la mediana:\n",
      "Glucose: mediana = 117.00\n",
      "BloodPressure: mediana = 72.00\n",
      "SkinThickness: mediana = 29.00\n",
      "Insulin: mediana = 125.00\n",
      "BMI: mediana = 32.30\n",
      "\n",
      "Verificación que ya no hay ceros:\n",
      "Glucose: 0 ceros\n",
      "BloodPressure: 0 ceros\n",
      "SkinThickness: 0 ceros\n",
      "Insulin: 0 ceros\n",
      "BMI: 0 ceros\n"
     ]
    }
   ],
   "source": [
    "#PREPROCESAMIENTO PARA MANEJAR LOS CEROS\n",
    "\n",
    "# Copiar el dataset para no modificar el original\n",
    "df = df_completo.copy()\n",
    "\n",
    "# Reemplazar los ceros con la mediana de cada columna\n",
    "print(\"\\nReemplazando ceros con la mediana:\")\n",
    "for columna in columnas_revisar:\n",
    "    # Calcular mediana sin los ceros\n",
    "    mediana = df[df[columna] != 0][columna].median()\n",
    "    # Reemplazar ceros\n",
    "    df[columna] = df[columna].replace(0, mediana)\n",
    "    print(f\"{columna}: mediana = {mediana:.2f}\")\n",
    "\n",
    "# Verificar que ya no hay ceros\n",
    "print(\"\\nVerificación que ya no hay ceros:\")\n",
    "for columna in columnas_revisar:\n",
    "    ceros = (df[columna] == 0).sum()\n",
    "    print(f\"{columna}: {ceros} ceros\")"
   ]
  },
  {
   "cell_type": "code",
   "execution_count": 22,
   "id": "9381e265",
   "metadata": {},
   "outputs": [
    {
     "name": "stdout",
     "output_type": "stream",
     "text": [
      "X tiene 768 filas y 8 columnas\n",
      "y tiene 768 valores\n",
      "\n",
      "Datos de entrenamiento: 614 filas\n",
      "Datos de prueba: 154 filas\n"
     ]
    }
   ],
   "source": [
    "###SEPARAR DATOS EN ENTRENAMIENTO Y PRUEBA\n",
    "\n",
    "# X = todas las columnas menos Outcome\n",
    "X = df.drop('Outcome', axis=1)\n",
    "\n",
    "# y = solo la columna Outcome\n",
    "y = df['Outcome']\n",
    "\n",
    "print(f\"X tiene {X.shape[0]} filas y {X.shape[1]} columnas\")\n",
    "print(f\"y tiene {y.shape[0]} valores\")\n",
    "\n",
    "# Dividir en 80% entrenamiento y 20% prueba\n",
    "X_train, X_test, y_train, y_test = train_test_split(X, y, test_size=0.2, random_state=42)\n",
    "\n",
    "print(f\"\\nDatos de entrenamiento: {X_train.shape[0]} filas\")\n",
    "print(f\"Datos de prueba: {X_test.shape[0]} filas\")"
   ]
  },
  {
   "cell_type": "code",
   "execution_count": 23,
   "id": "b4d43298",
   "metadata": {},
   "outputs": [
    {
     "name": "stdout",
     "output_type": "stream",
     "text": [
      "Datos escalados correctamente\n"
     ]
    }
   ],
   "source": [
    "#ESCALAR LOS DATOS\n",
    "\n",
    "# Crear el escalador\n",
    "scaler = StandardScaler()\n",
    "\n",
    "# Escalar los datos de entrenamiento\n",
    "X_train = scaler.fit_transform(X_train)\n",
    "\n",
    "# Escalar los datos de prueba\n",
    "X_test = scaler.transform(X_test)\n",
    "\n",
    "print(\"Datos escalados correctamente\")"
   ]
  },
  {
   "cell_type": "code",
   "execution_count": null,
   "id": "48d97fc6",
   "metadata": {},
   "outputs": [
    {
     "name": "stdout",
     "output_type": "stream",
     "text": [
      "Modelo entrenado!\n"
     ]
    }
   ],
   "source": [
    "##ENTRENAMIENTO DE MODELO RANDOM FOREST\n",
    "\n",
    "# Se crea el modelo de identificar diabetes con random forest\n",
    "modelo_rf = RandomForestClassifier()\n",
    "\n",
    "# Entrenar el modelo\n",
    "modelo_rf.fit(X_train, y_train)\n",
    "\n",
    "print(\"Modelo entrenado!\")\n"
   ]
  },
  {
   "cell_type": "code",
   "execution_count": null,
   "id": "4b05706e",
   "metadata": {},
   "outputs": [
    {
     "name": "stdout",
     "output_type": "stream",
     "text": [
      "\n",
      "Random Forest:\n",
      "Primeras 10 predicciones: [0 0 0 0 0 1 0 1 1 1]\n",
      "\n",
      "Valores reales: [0 0 0 0 0 0 0 0 0 0]\n"
     ]
    }
   ],
   "source": [
    "# PRUEBA DE PREDICCIÓN RANDOM FOREST\n",
    "print(\"\\nRandom Forest:\")\n",
    "y_pred2 = modelo_rf.predict(X_test)\n",
    "print(f\"Prueda de primeras 10 predicciones: {y_pred2[:10]}\")\n",
    "\n",
    "print(f\"\\nValores reales: {y_test.values[:10]}\")"
   ]
  },
  {
   "cell_type": "code",
   "execution_count": null,
   "id": "b42235cf",
   "metadata": {},
   "outputs": [
    {
     "name": "stdout",
     "output_type": "stream",
     "text": [
      "Accuracy: 0.7662\n",
      "\n",
      "Matriz de Confusión:\n",
      "[[78 21]\n",
      " [15 40]]\n",
      "\n",
      "Reporte de Clasificación:\n",
      "              precision    recall  f1-score   support\n",
      "\n",
      "           0       0.84      0.79      0.81        99\n",
      "           1       0.66      0.73      0.69        55\n",
      "\n",
      "    accuracy                           0.77       154\n",
      "   macro avg       0.75      0.76      0.75       154\n",
      "weighted avg       0.77      0.77      0.77       154\n",
      "\n"
     ]
    }
   ],
   "source": [
    "# VALUAR EL MODELO DE RAMDOM FOREST\n",
    "# Calcular accuracy\n",
    "accuracy_rf = accuracy_score(y_test, y_pred2)\n",
    "print(f\"Accuracy: {accuracy_rf:.4f}\")\n",
    "\n",
    "# Matriz de confusión\n",
    "print(\"\\nMatriz de Confusión:\")\n",
    "cm_rf = confusion_matrix(y_test, y_pred2)\n",
    "print(cm_rf)\n",
    "\n",
    "# Reporte de clasificación\n",
    "print(\"\\nReporte de Clasificación:\")\n",
    "print(classification_report(y_test, y_pred2))"
   ]
  },
  {
   "cell_type": "code",
   "execution_count": 28,
   "id": "b66f3b0a",
   "metadata": {},
   "outputs": [
    {
     "name": "stdout",
     "output_type": "stream",
     "text": [
      "Modelo entrenado!\n"
     ]
    }
   ],
   "source": [
    "##ENTRENAMIENTO DE MODELO K-NEAREST NEIGHBORS (KNN)\n",
    "\n",
    "modelo_knn = KNeighborsClassifier(n_neighbors=5)\n",
    "\n",
    "# Entrenar el modelo\n",
    "modelo_knn.fit(X_train, y_train)\n",
    "\n",
    "print(\"Modelo entrenado!\")"
   ]
  },
  {
   "cell_type": "code",
   "execution_count": 29,
   "id": "4fb15755",
   "metadata": {},
   "outputs": [
    {
     "name": "stdout",
     "output_type": "stream",
     "text": [
      "\n",
      "KNN:\n",
      "Prueda de primeras 10 predicciones: [1 0 0 1 1 1 0 0 1 0]\n",
      "\n",
      "Valores reales: [0 0 0 0 0 0 0 0 0 0]\n"
     ]
    }
   ],
   "source": [
    "# PRUEBA DE PREDICCIÓN K-NEAREST NEIGHBORS (KNN)\n",
    "print(\"\\nKNN:\")\n",
    "y_pred3 = modelo_knn.predict(X_test)\n",
    "print(f\"Prueda de primeras 10 predicciones: {y_pred3[:10]}\")\n",
    "\n",
    "print(f\"\\nValores reales: {y_test.values[:10]}\")"
   ]
  },
  {
   "cell_type": "code",
   "execution_count": 30,
   "id": "c9af1d34",
   "metadata": {},
   "outputs": [
    {
     "name": "stdout",
     "output_type": "stream",
     "text": [
      "Accuracy: 0.7208\n",
      "\n",
      "Matriz de Confusión:\n",
      "[[74 25]\n",
      " [18 37]]\n",
      "\n",
      "Reporte de Clasificación:\n",
      "              precision    recall  f1-score   support\n",
      "\n",
      "           0       0.80      0.75      0.77        99\n",
      "           1       0.60      0.67      0.63        55\n",
      "\n",
      "    accuracy                           0.72       154\n",
      "   macro avg       0.70      0.71      0.70       154\n",
      "weighted avg       0.73      0.72      0.72       154\n",
      "\n"
     ]
    }
   ],
   "source": [
    "# VALUAR EL MODELO DE RAMDOM FOREST\n",
    "\n",
    "# Calcular accuracy\n",
    "accuracy_knn = accuracy_score(y_test, y_pred3)\n",
    "print(f\"Accuracy: {accuracy_knn:.4f}\")\n",
    "\n",
    "# Matriz de confusión\n",
    "print(\"\\nMatriz de Confusión:\")\n",
    "cm_knn = confusion_matrix(y_test, y_pred3)\n",
    "print(cm_knn)\n",
    "\n",
    "# Reporte de clasificación\n",
    "print(\"\\nReporte de Clasificación:\")\n",
    "print(classification_report(y_test, y_pred3))"
   ]
  },
  {
   "cell_type": "code",
   "execution_count": 35,
   "id": "7ad3b327",
   "metadata": {},
   "outputs": [
    {
     "name": "stdout",
     "output_type": "stream",
     "text": [
      "Random Forest - Accuracy: 0.7662\n",
      "KNN - Accuracy: 0.7208\n",
      "\n",
      "🏆 El mejor modelo es: RANDOM FOREST con 0.7662\n"
     ]
    },
    {
     "data": {
      "image/png": "[encoded data removed]",
      "text/plain": [
       "<Figure size 800x500 with 1 Axes>"
      ]
     },
     "metadata": {},
     "output_type": "display_data"
    },
    {
     "data": {
      "image/png": "[encoded data removed]",
      "text/plain": [
       "<Figure size 1200x400 with 4 Axes>"
      ]
     },
     "metadata": {},
     "output_type": "display_data"
    },
    {
     "name": "stdout",
     "output_type": "stream",
     "text": [
      "\n",
      "CONCLUSIONES:\n",
      "Random Forest:\n",
      " -Detectó correctamente 78 personas sanas\n",
      " -Detectó correctamente 40 personas con diabetes\n",
      " -21 falsas alarmas\n",
      " -15 casos de diabetes no detectados\n",
      "\n",
      "KNN:\n",
      "\n",
      " -Detectó correctamente 74 personas sanas\n",
      " -Detectó correctamente 37 personas con diabetes\n",
      " -25 falsas alarmas\n",
      " -18 casos de diabetes no detectados\n",
      "\n",
      " Por lo tanto el mejor modelo para este caso seria el Random Forest segun la CM\n",
      "\n"
     ]
    }
   ],
   "source": [
    "## COMPARACIÓN FINAL\n",
    "\n",
    "\n",
    "\n",
    "print(f\"Random Forest - Accuracy: {accuracy_rf:.4f}\")\n",
    "print(f\"KNN - Accuracy: {accuracy_knn:.4f}\")\n",
    "\n",
    "# Ver cuál es el mejor\n",
    "mejor_accuracy = max(accuracy_rf, accuracy_knn)\n",
    "\n",
    "if accuracy_rf == mejor_accuracy:\n",
    "    print(f\"\\n🏆 El mejor modelo es: RANDOM FOREST con {accuracy_rf:.4f}\")\n",
    "else:\n",
    "    print(f\"\\n🏆 El mejor modelo es: KNN con {accuracy_knn:.4f}\")\n",
    "\n",
    "# Graficar comparación\n",
    "modelos_nombres = ['Random\\nForest', 'KNN']\n",
    "accuracies = [accuracy_rf, accuracy_knn]\n",
    "\n",
    "plt.figure(figsize=(8, 5))\n",
    "plt.bar(modelos_nombres, accuracies, color=['blue', 'green', 'red'])\n",
    "plt.title('Comparación de Accuracy entre Modelos')\n",
    "plt.ylabel('Accuracy')\n",
    "plt.ylim([0, 1])\n",
    "\n",
    "# Agregar valores encima de las barras\n",
    "for i, v in enumerate(accuracies):\n",
    "    plt.text(i, v + 0.01, f'{v:.3f}', ha='center')\n",
    "\n",
    "plt.show()\n",
    "\n",
    "# Graficar las matrices de confusión\n",
    "fig, axes = plt.subplots(1, 2, figsize=(12, 4))\n",
    "\n",
    "\n",
    "# Matriz rf\n",
    "sns.heatmap(cm_rf, annot=True, fmt='d', ax=axes[0])\n",
    "axes[0].set_title('Random Forest')\n",
    "axes[0].set_xlabel('Predicción')\n",
    "axes[0].set_ylabel('Real')\n",
    "\n",
    "# Matriz knn\n",
    "sns.heatmap(cm_knn, annot=True, fmt='d', ax=axes[1])\n",
    "axes[1].set_title('KNN')\n",
    "axes[1].set_xlabel('Predicción')\n",
    "axes[1].set_ylabel('Real')\n",
    "\n",
    "plt.tight_layout()\n",
    "plt.show()\n",
    "\n",
    "# Conclusión simple\n",
    "print(\"\"\"\n",
    "CONCLUSIONES:\n",
    "Random Forest:\n",
    " -Detectó correctamente 78 personas sanas\n",
    " -Detectó correctamente 40 personas con diabetes\n",
    " -21 falsas alarmas\n",
    " -15 casos de diabetes no detectados\n",
    " \n",
    "KNN:\n",
    "\n",
    " -Detectó correctamente 74 personas sanas\n",
    " -Detectó correctamente 37 personas con diabetes\n",
    " -25 falsas alarmas\n",
    " -18 casos de diabetes no detectados\n",
    " \n",
    " Por lo tanto el mejor modelo para este caso seria el Random Forest segun la CM\n",
    "\"\"\")"
   ]
  }
 ],
 "metadata": {
  "kernelspec": {
   "display_name": "Python 3",
   "language": "python",
   "name": "python3"
  },
  "language_info": {
   "codemirror_mode": {
    "name": "ipython",
    "version": 3
   },
   "file_extension": ".py",
   "mimetype": "text/x-python",
   "name": "python",
   "nbconvert_exporter": "python",
   "pygments_lexer": "ipython3",
   "version": "3.13.2"
  }
 },
 "nbformat": 4,
 "nbformat_minor": 5
}
